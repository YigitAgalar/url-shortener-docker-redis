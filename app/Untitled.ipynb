{
 "cells": [
  {
   "cell_type": "code",
   "execution_count": 1,
   "id": "environmental-lesson",
   "metadata": {},
   "outputs": [],
   "source": [
    "import pandas as pd\n",
    "import random\n",
    "import string\n",
    "import time\n",
    "import requests\n",
    "from urllib.parse import unquote"
   ]
  },
  {
   "cell_type": "code",
   "execution_count": 2,
   "id": "e60ac6e7",
   "metadata": {},
   "outputs": [
    {
     "data": {
      "text/plain": [
       "'http://127.0.0.1:8000/task/twitter.com/home'"
      ]
     },
     "execution_count": 2,
     "metadata": {},
     "output_type": "execute_result"
    }
   ],
   "source": [
    "url=\"http://127.0.0.1:8000/task/twitter.com%2Fhome\"\n",
    "unquote(url)"
   ]
  },
  {
   "cell_type": "code",
   "execution_count": 30,
   "id": "controlling-heather",
   "metadata": {},
   "outputs": [
    {
     "data": {
      "text/plain": [
       "'tkRckp'"
      ]
     },
     "execution_count": 30,
     "metadata": {},
     "output_type": "execute_result"
    }
   ],
   "source": [
    "N=6\n",
    "res = ''.join(random.choices(string.ascii_letters, k=N))\n",
    "res"
   ]
  },
  {
   "cell_type": "code",
   "execution_count": 4,
   "id": "applicable-bridge",
   "metadata": {},
   "outputs": [],
   "source": [
    "json = {\n",
    "    \"original_url\":\"\",\n",
    "    \"shortened_url\":\"\",\n",
    "    \"created_by\":\"\",\n",
    "    \"created_at_gmt\":\"\",\n",
    "    \"click_count\":\"\",\n",
    "}"
   ]
  },
  {
   "cell_type": "code",
   "execution_count": 15,
   "id": "angry-recipient",
   "metadata": {},
   "outputs": [],
   "source": [
    "def url_shorter(url,takma_ad=''):\n",
    "    N=6\n",
    "    random_str = ''.join(random.choices(string.ascii_letters, k=N))\n",
    "    gmt_time=time.strftime(\"%Y-%m-%d %H:%M:%S\",time.gmtime())\n",
    "    \n",
    "    return {\n",
    "    \"original_url\":url,\n",
    "    \"shortened_url\":\"http://localhost:8000/\"+random_str,\n",
    "    \"url_str\":random_str,\n",
    "    \"takma_ad\":\"\",\n",
    "    \"created_by\":\"deneme\",\n",
    "    \"created_at_gmt\":gmt_time,\n",
    "    \"click_count\":\"\",\n",
    "        \n",
    "        }\n",
    "    "
   ]
  },
  {
   "cell_type": "code",
   "execution_count": 7,
   "id": "surgical-cancer",
   "metadata": {},
   "outputs": [],
   "source": [
    "#datetime.datetime.now().isoformat()"
   ]
  },
  {
   "cell_type": "code",
   "execution_count": 10,
   "id": "peripheral-boston",
   "metadata": {},
   "outputs": [],
   "source": [
    "#time.strftime(\"%Y-%m-%d %H:%M:%S\",time.gmtime())"
   ]
  },
  {
   "cell_type": "code",
   "execution_count": 1,
   "id": "short-allah",
   "metadata": {},
   "outputs": [],
   "source": [
    "#time.strftime(\"%Y-%m-%d %H:%M:%S\",time.gmtime().tmzone())"
   ]
  },
  {
   "cell_type": "code",
   "execution_count": 25,
   "id": "exotic-courage",
   "metadata": {},
   "outputs": [],
   "source": [
    "a=url_shorter(\"https://github.com/YigitAgalar\",\"deneme\")"
   ]
  },
  {
   "cell_type": "code",
   "execution_count": 31,
   "id": "524fe9a5",
   "metadata": {},
   "outputs": [
    {
     "data": {
      "text/plain": [
       "{'original_url': 'https://github.com/kaankasap9',\n",
       " 'shortened_url': 'http://localhost:8000/gpCKga',\n",
       " 'url_str': 'gpCKga',\n",
       " 'takma_ad': '',\n",
       " 'created_by': 'deneme',\n",
       " 'created_at_gmt': '2022-11-23 18:10:16',\n",
       " 'click_count': ''}"
      ]
     },
     "execution_count": 31,
     "metadata": {},
     "output_type": "execute_result"
    }
   ],
   "source": [
    "url_shorter(\"https://github.com/kaankasap9\",\"deneme\")"
   ]
  },
  {
   "cell_type": "code",
   "execution_count": 37,
   "id": "polish-merit",
   "metadata": {},
   "outputs": [
    {
     "data": {
      "text/plain": [
       "<Response [200]>"
      ]
     },
     "execution_count": 37,
     "metadata": {},
     "output_type": "execute_result"
    }
   ],
   "source": [
    "requests.get(\"https://twitter.com/\")"
   ]
  },
  {
   "cell_type": "code",
   "execution_count": 27,
   "id": "geographic-special",
   "metadata": {},
   "outputs": [
    {
     "data": {
      "text/plain": [
       "'qMUJJm'"
      ]
     },
     "execution_count": 27,
     "metadata": {},
     "output_type": "execute_result"
    }
   ],
   "source": [
    "a.get('url_str')"
   ]
  },
  {
   "cell_type": "code",
   "execution_count": null,
   "id": "b65d7628",
   "metadata": {},
   "outputs": [],
   "source": [
    "[{'original_url': 'https://github.com/YigitAgalar',\n",
    " 'shortened_url': 'http://localhost:8000/uzNolS',\n",
    " 'url_str': 'uzNolS',\n",
    " 'takma_ad': '',\n",
    " 'created_by': 'deneme',\n",
    " 'created_at_gmt': '2022-11-23 17:48:35',\n",
    " 'click_count': ''},\n",
    " {'original_url': 'https://www.geeksforgeeks.org/python-dictionary-methods/',\n",
    " 'shortened_url': 'http://localhost:8000/qMUJJm',\n",
    " 'url_str': 'qMUJJm',\n",
    " 'takma_ad': '',\n",
    " 'created_by': 'deneme',\n",
    " 'created_at_gmt': '2022-11-23 17:48:35',\n",
    " 'click_count': ''},\n",
    " {'original_url': 'https://redis.com/nosql/key-value-databases/',\n",
    " 'shortened_url': 'http://localhost:8000/jHkQKV',\n",
    " 'url_str': 'jHkQKV',\n",
    " 'takma_ad': '',\n",
    " 'created_by': 'deneme',\n",
    " 'created_at_gmt': '2022-11-23 17:50:30',\n",
    " 'click_count': ''},\n",
    " {'original_url': 'https://github.com/nazir20',\n",
    " 'shortened_url': 'http://localhost:8000/XnsBPM',\n",
    " 'url_str': 'XnsBPM',\n",
    " 'takma_ad': '',\n",
    " 'created_by': 'deneme',\n",
    " 'created_at_gmt': '2022-11-23 17:51:25',\n",
    " 'click_count': ''}\n",
    " ]"
   ]
  }
 ],
 "metadata": {
  "kernelspec": {
   "display_name": "Python 3.9.1 64-bit",
   "language": "python",
   "name": "python3"
  },
  "language_info": {
   "codemirror_mode": {
    "name": "ipython",
    "version": 3
   },
   "file_extension": ".py",
   "mimetype": "text/x-python",
   "name": "python",
   "nbconvert_exporter": "python",
   "pygments_lexer": "ipython3",
   "version": "3.9.1"
  },
  "vscode": {
   "interpreter": {
    "hash": "578a8c9711a8ea3b867dd310840c01cbb9fb9eaa09ef14c3dbbc4d6173b04a4b"
   }
  }
 },
 "nbformat": 4,
 "nbformat_minor": 5
}
